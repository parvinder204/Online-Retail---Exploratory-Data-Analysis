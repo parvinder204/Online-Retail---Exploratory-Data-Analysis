{
 "cells": [
  {
   "cell_type": "markdown",
   "metadata": {},
   "source": [
    "# Portfolio Project: Online Retail Exploratory Data Analysis with Python"
   ]
  },
  {
   "cell_type": "markdown",
   "metadata": {},
   "source": [
    "## Overview\n",
    "\n",
    "In this project, you will step into the shoes of an entry-level data analyst at an online retail company, helping interpret real-world data to help make a key business decision."
   ]
  },
  {
   "cell_type": "markdown",
   "metadata": {},
   "source": [
    "## Case Study\n",
    "In this project, you will be working with transactional data from an online retail store. The dataset contains information about customer purchases, including product details, quantities, prices, and timestamps. Your task is to explore and analyze this dataset to gain insights into the store's sales trends, customer behavior, and popular products. \n",
    "\n",
    "By conducting exploratory data analysis, you will identify patterns, outliers, and correlations in the data, allowing you to make data-driven decisions and recommendations to optimize the store's operations and improve customer satisfaction. Through visualizations and statistical analysis, you will uncover key trends, such as the busiest sales months, best-selling products, and the store's most valuable customers. Ultimately, this project aims to provide actionable insights that can drive strategic business decisions and enhance the store's overall performance in the competitive online retail market."
   ]
  },
  {
   "cell_type": "markdown",
   "metadata": {},
   "source": [
    "## Project Objectives\n",
    "1. Describe data to answer key questions to uncover insights\n",
    "2. Gain valuable insights that will help improve online retail performance\n",
    "3. Provide analytic insights and data-driven recommendations"
   ]
  },
  {
   "cell_type": "markdown",
   "metadata": {},
   "source": [
    "## Dataset\n",
    "\n",
    "The dataset you will be working with is the \"Online Retail\" dataset. It contains transactional data of an online retail store from 2010 to 2011. The dataset is available as a .xlsx file named `Online Retail.xlsx`. This data file is already included in the Coursera Jupyter Notebook environment, however if you are working off-platform it can also be downloaded [here](https://archive.ics.uci.edu/ml/machine-learning-databases/00352/Online%20Retail.xlsx).\n",
    "\n",
    "The dataset contains the following columns:\n",
    "\n",
    "- InvoiceNo: Invoice number of the transaction\n",
    "- StockCode: Unique code of the product\n",
    "- Description: Description of the product\n",
    "- Quantity: Quantity of the product in the transaction\n",
    "- InvoiceDate: Date and time of the transaction\n",
    "- UnitPrice: Unit price of the product\n",
    "- CustomerID: Unique identifier of the customer\n",
    "- Country: Country where the transaction occurred"
   ]
  },
  {
   "cell_type": "markdown",
   "metadata": {},
   "source": [
    "## Tasks\n",
    "\n",
    "You may explore this dataset in any way you would like - however if you'd like some help getting started, here are a few ideas:\n",
    "\n",
    "1. Load the dataset into a Pandas DataFrame and display the first few rows to get an overview of the data.\n",
    "2. Perform data cleaning by handling missing values, if any, and removing any redundant or unnecessary columns.\n",
    "3. Explore the basic statistics of the dataset, including measures of central tendency and dispersion.\n",
    "4. Perform data visualization to gain insights into the dataset. Generate appropriate plots, such as histograms, scatter plots, or bar plots, to visualize different aspects of the data.\n",
    "5. Analyze the sales trends over time. Identify the busiest months and days of the week in terms of sales.\n",
    "6. Explore the top-selling products and countries based on the quantity sold.\n",
    "7. Identify any outliers or anomalies in the dataset and discuss their potential impact on the analysis.\n",
    "8. Draw conclusions and summarize your findings from the exploratory data analysis."
   ]
  },
  {
   "cell_type": "markdown",
   "metadata": {},
   "source": [
    "## Task 1: Load the Data"
   ]
  },
  {
   "cell_type": "code",
   "execution_count": 1,
   "metadata": {},
   "outputs": [],
   "source": [
    "import pandas as pd\n",
    "import seaborn as sns\n",
    "import matplotlib.pyplot as plt"
   ]
  },
  {
   "cell_type": "code",
   "execution_count": 2,
   "metadata": {},
   "outputs": [],
   "source": [
    "data = pd.read_excel(\"Online Retail.xlsx\")"
   ]
  },
  {
   "cell_type": "code",
   "execution_count": 3,
   "metadata": {},
   "outputs": [
    {
     "name": "stdout",
     "output_type": "stream",
     "text": [
      "  InvoiceNo StockCode                          Description  Quantity  \\\n",
      "0    536365    85123A   WHITE HANGING HEART T-LIGHT HOLDER         6   \n",
      "1    536365     71053                  WHITE METAL LANTERN         6   \n",
      "2    536365    84406B       CREAM CUPID HEARTS COAT HANGER         8   \n",
      "3    536365    84029G  KNITTED UNION FLAG HOT WATER BOTTLE         6   \n",
      "4    536365    84029E       RED WOOLLY HOTTIE WHITE HEART.         6   \n",
      "\n",
      "          InvoiceDate  UnitPrice  CustomerID         Country  \n",
      "0 2010-12-01 08:26:00       2.55     17850.0  United Kingdom  \n",
      "1 2010-12-01 08:26:00       3.39     17850.0  United Kingdom  \n",
      "2 2010-12-01 08:26:00       2.75     17850.0  United Kingdom  \n",
      "3 2010-12-01 08:26:00       3.39     17850.0  United Kingdom  \n",
      "4 2010-12-01 08:26:00       3.39     17850.0  United Kingdom  \n"
     ]
    }
   ],
   "source": [
    "print(data.head())"
   ]
  },
  {
   "cell_type": "code",
   "execution_count": 4,
   "metadata": {},
   "outputs": [
    {
     "name": "stdout",
     "output_type": "stream",
     "text": [
      "       InvoiceNo StockCode                      Description  Quantity  \\\n",
      "541904    581587     22613      PACK OF 20 SPACEBOY NAPKINS        12   \n",
      "541905    581587     22899     CHILDREN'S APRON DOLLY GIRL          6   \n",
      "541906    581587     23254    CHILDRENS CUTLERY DOLLY GIRL          4   \n",
      "541907    581587     23255  CHILDRENS CUTLERY CIRCUS PARADE         4   \n",
      "541908    581587     22138    BAKING SET 9 PIECE RETROSPOT          3   \n",
      "\n",
      "               InvoiceDate  UnitPrice  CustomerID Country  \n",
      "541904 2011-12-09 12:50:00       0.85     12680.0  France  \n",
      "541905 2011-12-09 12:50:00       2.10     12680.0  France  \n",
      "541906 2011-12-09 12:50:00       4.15     12680.0  France  \n",
      "541907 2011-12-09 12:50:00       4.15     12680.0  France  \n",
      "541908 2011-12-09 12:50:00       4.95     12680.0  France  \n"
     ]
    }
   ],
   "source": [
    "print(data.tail())"
   ]
  },
  {
   "cell_type": "markdown",
   "metadata": {},
   "source": [
    "# Task 2:  Performing data cleaning"
   ]
  },
  {
   "cell_type": "code",
   "execution_count": 5,
   "metadata": {},
   "outputs": [
    {
     "name": "stdout",
     "output_type": "stream",
     "text": [
      "InvoiceNo      541909\n",
      "StockCode      541909\n",
      "Description    540455\n",
      "Quantity       541909\n",
      "InvoiceDate    541909\n",
      "UnitPrice      541909\n",
      "CustomerID     406829\n",
      "Country        541909\n",
      "dtype: int64\n"
     ]
    }
   ],
   "source": [
    "# data count\n",
    "print(data.count())"
   ]
  },
  {
   "cell_type": "code",
   "execution_count": 6,
   "metadata": {},
   "outputs": [
    {
     "name": "stdout",
     "output_type": "stream",
     "text": [
      "InvoiceNo           0\n",
      "StockCode           0\n",
      "Description      1454\n",
      "Quantity            0\n",
      "InvoiceDate         0\n",
      "UnitPrice           0\n",
      "CustomerID     135080\n",
      "Country             0\n",
      "dtype: int64\n"
     ]
    }
   ],
   "source": [
    "# detecting missing value\n",
    "print(data.isnull().sum())"
   ]
  },
  {
   "cell_type": "code",
   "execution_count": 7,
   "metadata": {},
   "outputs": [],
   "source": [
    "# removing rows with missing values\n",
    "data_clean = data.dropna()"
   ]
  },
  {
   "cell_type": "code",
   "execution_count": 8,
   "metadata": {},
   "outputs": [
    {
     "name": "stdout",
     "output_type": "stream",
     "text": [
      "InvoiceNo      541909\n",
      "StockCode      541909\n",
      "Description    540455\n",
      "Quantity       541909\n",
      "InvoiceDate    541909\n",
      "UnitPrice      541909\n",
      "CustomerID     406829\n",
      "Country        541909\n",
      "dtype: int64\n"
     ]
    }
   ],
   "source": [
    "# printing data count again\n",
    "print(data.count())"
   ]
  },
  {
   "cell_type": "code",
   "execution_count": 9,
   "metadata": {},
   "outputs": [],
   "source": [
    "# Drop column with any missing values\n",
    "data_clean = data.dropna(axis = 1)"
   ]
  },
  {
   "cell_type": "code",
   "execution_count": 10,
   "metadata": {},
   "outputs": [
    {
     "name": "stdout",
     "output_type": "stream",
     "text": [
      "InvoiceNo      541909\n",
      "StockCode      541909\n",
      "Description    540455\n",
      "Quantity       541909\n",
      "InvoiceDate    541909\n",
      "UnitPrice      541909\n",
      "CustomerID     406829\n",
      "Country        541909\n",
      "dtype: int64\n"
     ]
    }
   ],
   "source": [
    "print(data.count())"
   ]
  },
  {
   "cell_type": "markdown",
   "metadata": {},
   "source": [
    "#  Task 3: Find central tendency and dispersion"
   ]
  },
  {
   "cell_type": "code",
   "execution_count": 11,
   "metadata": {},
   "outputs": [
    {
     "name": "stdout",
     "output_type": "stream",
     "text": [
      "            Quantity      UnitPrice     CustomerID\n",
      "count  541909.000000  541909.000000  406829.000000\n",
      "mean        9.552250       4.611114   15287.690570\n",
      "std       218.081158      96.759853    1713.600303\n",
      "min    -80995.000000  -11062.060000   12346.000000\n",
      "25%         1.000000       1.250000   13953.000000\n",
      "50%         3.000000       2.080000   15152.000000\n",
      "75%        10.000000       4.130000   16791.000000\n",
      "max     80995.000000   38970.000000   18287.000000\n"
     ]
    }
   ],
   "source": [
    "summary = data.describe()\n",
    "print(summary)"
   ]
  },
  {
   "cell_type": "markdown",
   "metadata": {},
   "source": [
    "# Central tendency - Mean, Median and Mode"
   ]
  },
  {
   "cell_type": "code",
   "execution_count": 12,
   "metadata": {},
   "outputs": [
    {
     "name": "stdout",
     "output_type": "stream",
     "text": [
      "9.55224954743324\n",
      "4.611113626083471\n"
     ]
    }
   ],
   "source": [
    "# Columns : Quantity, UnitPrice, InvoiceNo, CustomerID\n",
    "# Calculate mean for Quantity column\n",
    "mean_Quantity = data[\"Quantity\"].mean()\n",
    "print(mean_Quantity)\n",
    "\n",
    "# Calculating mean for UnitPrice column\n",
    "mean_UnitPrice = data[\"UnitPrice\"].mean()\n",
    "print(mean_UnitPrice)"
   ]
  },
  {
   "cell_type": "code",
   "execution_count": 13,
   "metadata": {},
   "outputs": [
    {
     "name": "stdout",
     "output_type": "stream",
     "text": [
      "3.0\n",
      "2.08\n"
     ]
    }
   ],
   "source": [
    "# Columns : Quantity, UnitPrice, InvoiceNo, CustomerID\n",
    "# Calculate median for Quantity column\n",
    "median_Quantity = data[\"Quantity\"].median()\n",
    "print(median_Quantity)\n",
    "\n",
    "# Calculating median for UnitPrice column\n",
    "median_UnitPrice = data[\"UnitPrice\"].median()\n",
    "print(median_UnitPrice)"
   ]
  },
  {
   "cell_type": "code",
   "execution_count": 14,
   "metadata": {},
   "outputs": [
    {
     "name": "stdout",
     "output_type": "stream",
     "text": [
      "1\n",
      "1.25\n"
     ]
    }
   ],
   "source": [
    "# Columns : Quantity, UnitPrice, InvoiceNo, CustomerID\n",
    "# Calculate mode for Quantity column\n",
    "mode_Quantity = data[\"Quantity\"].mode().iloc[0]\n",
    "print(mode_Quantity)\n",
    "\n",
    "# Calculating mode for UnitPrice column\n",
    "mode_UnitPrice = data[\"UnitPrice\"].mode().iloc[0]\n",
    "print(mode_UnitPrice)"
   ]
  },
  {
   "cell_type": "markdown",
   "metadata": {},
   "source": [
    "# Dispersion-Quantity, UnitPrice"
   ]
  },
  {
   "cell_type": "code",
   "execution_count": 15,
   "metadata": {},
   "outputs": [
    {
     "name": "stdout",
     "output_type": "stream",
     "text": [
      "161990\n",
      "50032.06\n"
     ]
    }
   ],
   "source": [
    "# Calculate range for Quantity column\n",
    "range_Quantity = data[\"Quantity\"].max() - data[\"Quantity\"].min()\n",
    "print(range_Quantity)\n",
    "\n",
    "# Calculating range for UnitPrice column\n",
    "range_UnitPrice = data[\"UnitPrice\"].max() - data[\"UnitPrice\"].min()\n",
    "print(range_UnitPrice)"
   ]
  },
  {
   "cell_type": "code",
   "execution_count": 16,
   "metadata": {},
   "outputs": [
    {
     "name": "stdout",
     "output_type": "stream",
     "text": [
      "47559.39140913822\n",
      "9362.469164424467\n"
     ]
    }
   ],
   "source": [
    "# Calculate variance for Quantity column\n",
    "variance_Quantity = data[\"Quantity\"].var()\n",
    "print(variance_Quantity)\n",
    "\n",
    "# Calculating variance for UnitPrice column\n",
    "variance_UnitPrice = data[\"UnitPrice\"].var()\n",
    "print(variance_UnitPrice)"
   ]
  },
  {
   "cell_type": "code",
   "execution_count": 17,
   "metadata": {},
   "outputs": [
    {
     "name": "stdout",
     "output_type": "stream",
     "text": [
      "218.08115784986612\n",
      "96.75985306119716\n"
     ]
    }
   ],
   "source": [
    "# Calculate standard deviation for Quantity column\n",
    "std_Quantity = data[\"Quantity\"].std()\n",
    "print(std_Quantity)\n",
    "\n",
    "# Calculating standard deviation for UnitPrice column\n",
    "std_UnitPrice = data[\"UnitPrice\"].std()\n",
    "print(std_UnitPrice)"
   ]
  },
  {
   "cell_type": "code",
   "execution_count": 18,
   "metadata": {},
   "outputs": [
    {
     "name": "stdout",
     "output_type": "stream",
     "text": [
      "9.0\n"
     ]
    }
   ],
   "source": [
    "# Calculating quartiles for Quantity columns\n",
    "q1 = data[\"Quantity\"].quantile(0.25)\n",
    "q2 = data[\"Quantity\"].quantile(0.50)\n",
    "q3 = data[\"Quantity\"].quantile(0.75)\n",
    "\n",
    "# Calculating quartiles range\n",
    "iqr = q3 - q1\n",
    "print(iqr)"
   ]
  },
  {
   "cell_type": "code",
   "execution_count": 19,
   "metadata": {},
   "outputs": [
    {
     "name": "stdout",
     "output_type": "stream",
     "text": [
      "2.88\n"
     ]
    }
   ],
   "source": [
    "# Calculating quartiles for UnitPrice columns\n",
    "q1 = data[\"UnitPrice\"].quantile(0.25)\n",
    "q2 = data[\"UnitPrice\"].quantile(0.50)\n",
    "q3 = data[\"UnitPrice\"].quantile(0.75)\n",
    "\n",
    "# Calculating quartiles range\n",
    "iqr = q3 - q1\n",
    "print(iqr)"
   ]
  },
  {
   "cell_type": "markdown",
   "metadata": {},
   "source": [
    "#  Task 4: Perform data Visualization to gain insight into the dataset"
   ]
  },
  {
   "cell_type": "code",
   "execution_count": 20,
   "metadata": {},
   "outputs": [
    {
     "data": {
      "image/png": "[encoded data removed]",
      "text/plain": [
       "<Figure size 432x288 with 1 Axes>"
      ]
     },
     "metadata": {
      "needs_background": "light"
     },
     "output_type": "display_data"
    },
    {
     "data": {
      "image/png": "[encoded data removed]",
      "text/plain": [
       "<Figure size 432x288 with 1 Axes>"
      ]
     },
     "metadata": {
      "needs_background": "light"
     },
     "output_type": "display_data"
    }
   ],
   "source": [
    "# Histogram\n",
    "\n",
    "# Histogram for Quantity\n",
    "plt.hist(data['Quantity'], bins=30, color='skyblue')\n",
    "plt.xlabel('Quantity')\n",
    "plt.ylabel('Frequency')\n",
    "plt.title('Distribution of Quantity')\n",
    "plt.show()\n",
    "\n",
    "# Histogram for UnitPrice\n",
    "plt.hist(data['UnitPrice'], bins=30, color='salmon')\n",
    "plt.xlabel('UnitPrice')\n",
    "plt.ylabel('Frequency')\n",
    "plt.title('Distribution of Unit Price')\n",
    "plt.show()"
   ]
  },
  {
   "cell_type": "code",
   "execution_count": 21,
   "metadata": {},
   "outputs": [
    {
     "data": {
      "image/png": "[encoded data removed]",
      "text/plain": [
       "<Figure size 720x432 with 1 Axes>"
      ]
     },
     "metadata": {
      "needs_background": "light"
     },
     "output_type": "display_data"
    }
   ],
   "source": [
    "# Bar Plot\n",
    "\n",
    "# Bar plot for Country \n",
    "country_counts = data['Country'].value_counts()\n",
    "plt.figure(figsize=(10,6))\n",
    "country_counts.plot(kind='bar', color='green')\n",
    "plt.xlabel('Country')\n",
    "plt.ylabel('Number of Transaction')\n",
    "plt.title('Number of Transaction by Country')\n",
    "plt.xticks(rotation=45)\n",
    "plt.show()"
   ]
  },
  {
   "cell_type": "code",
   "execution_count": 22,
   "metadata": {},
   "outputs": [
    {
     "data": {
      "image/png": "[encoded data removed]",
      "text/plain": [
       "<Figure size 432x288 with 1 Axes>"
      ]
     },
     "metadata": {
      "needs_background": "light"
     },
     "output_type": "display_data"
    }
   ],
   "source": [
    "# Scatter plot\n",
    "\n",
    "# Scatter plot for Quantity vs UnitPrice\n",
    "plt.scatter(data['Quantity'], data['UnitPrice'], color='red', alpha=0.5)\n",
    "plt.xlabel('Quantity')\n",
    "plt.ylabel('UnitPrice')\n",
    "plt.title('Quantity vs UnitPrice')\n",
    "plt.show()"
   ]
  },
  {
   "cell_type": "markdown",
   "metadata": {},
   "source": [
    "# Task 5: Identify the busiest months and days of the week in term of sales"
   ]
  },
  {
   "cell_type": "code",
   "execution_count": 23,
   "metadata": {},
   "outputs": [
    {
     "name": "stdout",
     "output_type": "stream",
     "text": [
      "Busiest Month:  11\n",
      "Busiest Day of the Week:  3\n"
     ]
    }
   ],
   "source": [
    "# Extract month and day of week\n",
    "data['Month'] = data['InvoiceDate'].dt.month\n",
    "data['DayofWeek'] = data['InvoiceDate'].dt.dayofweek\n",
    "\n",
    "# Calculate monthly sales\n",
    "monthly_sales = data.groupby('Month')['Quantity'].sum()\n",
    "\n",
    "# Identify the busiest month\n",
    "busiest_month = monthly_sales.idxmax()\n",
    "\n",
    "# Calculate sales by day of week\n",
    "daily_sales = data.groupby('DayofWeek')['Quantity'].sum()\n",
    "\n",
    "# Identify the busiest day of the week ( 0 = Monday. 6 = Sunday)\n",
    "busiest_day_of_week = daily_sales.idxmax()\n",
    "\n",
    "# Print the busiest month and day of the week\n",
    "print(\"Busiest Month: \",busiest_month)\n",
    "print(\"Busiest Day of the Week: \",busiest_day_of_week)"
   ]
  },
  {
   "cell_type": "markdown",
   "metadata": {},
   "source": [
    "# Task 6: Explore the top-selling products and countries based on the quantity"
   ]
  },
  {
   "cell_type": "code",
   "execution_count": 24,
   "metadata": {},
   "outputs": [
    {
     "name": "stdout",
     "output_type": "stream",
     "text": [
      "  InvoiceNo StockCode                          Description  Quantity  \\\n",
      "0    536365    85123A   WHITE HANGING HEART T-LIGHT HOLDER         6   \n",
      "1    536365     71053                  WHITE METAL LANTERN         6   \n",
      "2    536365    84406B       CREAM CUPID HEARTS COAT HANGER         8   \n",
      "3    536365    84029G  KNITTED UNION FLAG HOT WATER BOTTLE         6   \n",
      "4    536365    84029E       RED WOOLLY HOTTIE WHITE HEART.         6   \n",
      "\n",
      "          InvoiceDate  UnitPrice  CustomerID         Country  Month  DayofWeek  \n",
      "0 2010-12-01 08:26:00       2.55     17850.0  United Kingdom     12          2  \n",
      "1 2010-12-01 08:26:00       3.39     17850.0  United Kingdom     12          2  \n",
      "2 2010-12-01 08:26:00       2.75     17850.0  United Kingdom     12          2  \n",
      "3 2010-12-01 08:26:00       3.39     17850.0  United Kingdom     12          2  \n",
      "4 2010-12-01 08:26:00       3.39     17850.0  United Kingdom     12          2  \n"
     ]
    }
   ],
   "source": [
    "print(data.head())"
   ]
  },
  {
   "cell_type": "code",
   "execution_count": 26,
   "metadata": {},
   "outputs": [
    {
     "name": "stdout",
     "output_type": "stream",
     "text": [
      "Top Selling Products: \n",
      "Description\n",
      "WORLD WAR 2 GLIDERS ASSTD DESIGNS    53847\n",
      "JUMBO BAG RED RETROSPOT              47363\n",
      "ASSORTED COLOUR BIRD ORNAMENT        36381\n",
      "POPCORN HOLDER                       36334\n",
      "PACK OF 72 RETROSPOT CAKE CASES      36039\n",
      "                                     ...  \n",
      "Damaged                              -7540\n",
      "Printing smudges/thrown away         -9058\n",
      "check                               -12030\n",
      "Unsaleable, destroyed.              -15644\n",
      "printing smudges/thrown away        -19200\n",
      "Name: Quantity, Length: 4223, dtype: int64\n",
      "\n",
      "Top Product : WORLD WAR 2 GLIDERS ASSTD DESIGNS\n",
      "\n",
      "Top-Sellimg Countries: \n",
      "Description\n",
      "HOT WATER BOTTLE KEEP CALM         UnspecifiedUnited KingdomUnited KingdomUnited ...\n",
      "PINK ROUND COMPACT MIRROR          United KingdomUnited KingdomUnspecifiedUnited ...\n",
      "VINTAGE GLASS T-LIGHT HOLDER       United KingdomUnited KingdomUnited KingdomUnsp...\n",
      "PARTY CHARMS 50 PIECES             United KingdomUnited KingdomUnited KingdomUnsp...\n",
      "ASSORTED SANSKRIT MINI NOTEBOOK    United KingdomUnited KingdomUnited KingdomUnit...\n",
      "Name: Country, dtype: object\n"
     ]
    }
   ],
   "source": [
    "# Find the top selling products\n",
    "top_selling_products = data.groupby('Description')['Quantity'].sum().sort_values(ascending=False)\n",
    "top_selling_product = top_selling_products.idxmax()\n",
    "\n",
    "# Print the top-selling products\n",
    "print('Top Selling Products: ')\n",
    "print(top_selling_products)\n",
    "print(f\"\\nTop Product : {top_selling_product}\")\n",
    "print()\n",
    "\n",
    "# FInd the top selling countries\n",
    "top_selling_countries = data.groupby(\"Description\")[\"Country\"].sum().sort_values(ascending=False)\n",
    "\n",
    "# Print the top-selling countries\n",
    "print(\"Top-Sellimg Countries: \")\n",
    "print(top_selling_countries.head(5))"
   ]
  },
  {
   "cell_type": "markdown",
   "metadata": {},
   "source": [
    "# Task 7: Identify any outliers or anomalies int the dataset and discuss their potential impact impact on the analysis."
   ]
  },
  {
   "cell_type": "code",
   "execution_count": 28,
   "metadata": {},
   "outputs": [
    {
     "name": "stderr",
     "output_type": "stream",
     "text": [
      "C:\\ProgramData\\Anaconda3\\lib\\site-packages\\seaborn\\_decorators.py:36: FutureWarning: Pass the following variable as a keyword arg: x. From version 0.12, the only valid positional argument will be `data`, and passing other arguments without an explicit keyword will result in an error or misinterpretation.\n",
      "  warnings.warn(\n"
     ]
    },
    {
     "data": {
      "image/png": "[encoded data removed]",
      "text/plain": [
       "<Figure size 864x432 with 1 Axes>"
      ]
     },
     "metadata": {
      "needs_background": "light"
     },
     "output_type": "display_data"
    },
    {
     "name": "stderr",
     "output_type": "stream",
     "text": [
      "C:\\ProgramData\\Anaconda3\\lib\\site-packages\\seaborn\\_decorators.py:36: FutureWarning: Pass the following variable as a keyword arg: x. From version 0.12, the only valid positional argument will be `data`, and passing other arguments without an explicit keyword will result in an error or misinterpretation.\n",
      "  warnings.warn(\n"
     ]
    },
    {
     "data": {
      "image/png": "[encoded data removed]",
      "text/plain": [
       "<Figure size 864x432 with 1 Axes>"
      ]
     },
     "metadata": {
      "needs_background": "light"
     },
     "output_type": "display_data"
    }
   ],
   "source": [
    "# Create box plots for Quantity and UnitPrice\n",
    "\n",
    "plt.figure(figsize=(12,6))\n",
    "x = data['Quantity']\n",
    "sns.boxplot(x)\n",
    "plt.title('Box PLot for Quantity')\n",
    "plt.show()\n",
    "\n",
    "plt.figure(figsize=(12,6))\n",
    "y = data['UnitPrice']\n",
    "sns.boxplot(y)\n",
    "plt.title('Box Plot for UnitPrice')\n",
    "plt.show()"
   ]
  },
  {
   "cell_type": "code",
   "execution_count": 30,
   "metadata": {},
   "outputs": [
    {
     "name": "stdout",
     "output_type": "stream",
     "text": [
      "Outliers in Quantity :        InvoiceNo StockCode                          Description  Quantity  \\\n",
      "0         536365    85123A   WHITE HANGING HEART T-LIGHT HOLDER         6   \n",
      "1         536365     71053                  WHITE METAL LANTERN         6   \n",
      "2         536365    84406B       CREAM CUPID HEARTS COAT HANGER         8   \n",
      "3         536365    84029G  KNITTED UNION FLAG HOT WATER BOTTLE         6   \n",
      "4         536365    84029E       RED WOOLLY HOTTIE WHITE HEART.         6   \n",
      "...          ...       ...                                  ...       ...   \n",
      "541904    581587     22613          PACK OF 20 SPACEBOY NAPKINS        12   \n",
      "541905    581587     22899         CHILDREN'S APRON DOLLY GIRL          6   \n",
      "541906    581587     23254        CHILDRENS CUTLERY DOLLY GIRL          4   \n",
      "541907    581587     23255      CHILDRENS CUTLERY CIRCUS PARADE         4   \n",
      "541908    581587     22138        BAKING SET 9 PIECE RETROSPOT          3   \n",
      "\n",
      "               InvoiceDate  UnitPrice  CustomerID         Country  Month  \\\n",
      "0      2010-12-01 08:26:00       2.55     17850.0  United Kingdom     12   \n",
      "1      2010-12-01 08:26:00       3.39     17850.0  United Kingdom     12   \n",
      "2      2010-12-01 08:26:00       2.75     17850.0  United Kingdom     12   \n",
      "3      2010-12-01 08:26:00       3.39     17850.0  United Kingdom     12   \n",
      "4      2010-12-01 08:26:00       3.39     17850.0  United Kingdom     12   \n",
      "...                    ...        ...         ...             ...    ...   \n",
      "541904 2011-12-09 12:50:00       0.85     12680.0          France     12   \n",
      "541905 2011-12-09 12:50:00       2.10     12680.0          France     12   \n",
      "541906 2011-12-09 12:50:00       4.15     12680.0          France     12   \n",
      "541907 2011-12-09 12:50:00       4.15     12680.0          France     12   \n",
      "541908 2011-12-09 12:50:00       4.95     12680.0          France     12   \n",
      "\n",
      "        DayofWeek  \n",
      "0               2  \n",
      "1               2  \n",
      "2               2  \n",
      "3               2  \n",
      "4               2  \n",
      "...           ...  \n",
      "541904          4  \n",
      "541905          4  \n",
      "541906          4  \n",
      "541907          4  \n",
      "541908          4  \n",
      "\n",
      "[539468 rows x 10 columns]\n",
      "\n",
      " Outliers in UnitPrice :        InvoiceNo StockCode                          Description  Quantity  \\\n",
      "0         536365    85123A   WHITE HANGING HEART T-LIGHT HOLDER         6   \n",
      "1         536365     71053                  WHITE METAL LANTERN         6   \n",
      "2         536365    84406B       CREAM CUPID HEARTS COAT HANGER         8   \n",
      "3         536365    84029G  KNITTED UNION FLAG HOT WATER BOTTLE         6   \n",
      "4         536365    84029E       RED WOOLLY HOTTIE WHITE HEART.         6   \n",
      "...          ...       ...                                  ...       ...   \n",
      "541904    581587     22613          PACK OF 20 SPACEBOY NAPKINS        12   \n",
      "541905    581587     22899         CHILDREN'S APRON DOLLY GIRL          6   \n",
      "541906    581587     23254        CHILDRENS CUTLERY DOLLY GIRL          4   \n",
      "541907    581587     23255      CHILDRENS CUTLERY CIRCUS PARADE         4   \n",
      "541908    581587     22138        BAKING SET 9 PIECE RETROSPOT          3   \n",
      "\n",
      "               InvoiceDate  UnitPrice  CustomerID         Country  Month  \\\n",
      "0      2010-12-01 08:26:00       2.55     17850.0  United Kingdom     12   \n",
      "1      2010-12-01 08:26:00       3.39     17850.0  United Kingdom     12   \n",
      "2      2010-12-01 08:26:00       2.75     17850.0  United Kingdom     12   \n",
      "3      2010-12-01 08:26:00       3.39     17850.0  United Kingdom     12   \n",
      "4      2010-12-01 08:26:00       3.39     17850.0  United Kingdom     12   \n",
      "...                    ...        ...         ...             ...    ...   \n",
      "541904 2011-12-09 12:50:00       0.85     12680.0          France     12   \n",
      "541905 2011-12-09 12:50:00       2.10     12680.0          France     12   \n",
      "541906 2011-12-09 12:50:00       4.15     12680.0          France     12   \n",
      "541907 2011-12-09 12:50:00       4.15     12680.0          France     12   \n",
      "541908 2011-12-09 12:50:00       4.95     12680.0          France     12   \n",
      "\n",
      "        DayofWeek  \n",
      "0               2  \n",
      "1               2  \n",
      "2               2  \n",
      "3               2  \n",
      "4               2  \n",
      "...           ...  \n",
      "541904          4  \n",
      "541905          4  \n",
      "541906          4  \n",
      "541907          4  \n",
      "541908          4  \n",
      "\n",
      "[541909 rows x 10 columns]\n"
     ]
    }
   ],
   "source": [
    "# calculate IQR for Quantity\n",
    "Q1 = data['Quantity'].quantile(0.25)\n",
    "Q3 = data['Quantity'].quantile(0.75)\n",
    "IQR = Q3 - Q1\n",
    "\n",
    "# Define Lower and upper bounds to identify outliers\n",
    "lower_bound = Q1 - 1.5 * IQR\n",
    "upper_bound = Q3 - 1.5 * IQR\n",
    "\n",
    "# Identity outlier in Quantity\n",
    "outliers_quantity = data[(data['Quantity'] < lower_bound) | (data['Quantity'] > upper_bound)]\n",
    "\n",
    "# Calculate IQR for UnitPrice\n",
    "Q1 = data['UnitPrice'].quantile(0.25)\n",
    "Q3 = data['UnitPrice'].quantile(0.75)\n",
    "IQR = Q3 - Q1\n",
    "\n",
    "# Define lower and upper bounds to identify outliers\n",
    "lower_bound = Q1 - 1.5 * IQR\n",
    "upper_bound = Q3 - 1.5 * IQR\n",
    "\n",
    "# Identify outliers in UnitPrice\n",
    "outliers_unitprice = data[(data['UnitPrice'] < lower_bound) | (data['UnitPrice'] > upper_bound)]\n",
    "print(f\"Outliers in Quantity : {outliers_quantity}\")\n",
    "print(f\"\\n Outliers in UnitPrice : {outliers_unitprice}\")"
   ]
  },
  {
   "cell_type": "markdown",
   "metadata": {},
   "source": [
    "# Task 8: Draw conclusions and summarize your findings from exploratory data analysis."
   ]
  },
  {
   "cell_type": "code",
   "execution_count": 33,
   "metadata": {},
   "outputs": [
    {
     "name": "stdout",
     "output_type": "stream",
     "text": [
      ">>>Conclusion<<<\n",
      "Using Python for Exploratory data analysis makes easy to find the mean, median and modes using the pandas library.\n",
      "It becomes very easy to visulize the data in different types of graphs\n",
      "Standard deviation and variation can also be performed\n",
      "\n",
      "\n",
      ">>>Summarize<<<\n",
      "FIrst we have checked for any missing values and removed the missing values.\n",
      "By analyzing the sales trends over time we have come to know about busiest days of week which was in months - November and in Days of the week it was 3 - Wednesday\n"
     ]
    }
   ],
   "source": [
    "# Summary\n",
    "\n",
    "print(\">>>Conclusion<<<\")\n",
    "print(\"Using Python for Exploratory data analysis makes easy to find the mean, median and modes using the pandas library.\")\n",
    "print(\"It becomes very easy to visulize the data in different types of graphs\")\n",
    "print(\"Standard deviation and variation can also be performed\")\n",
    "print(\"\\n\")\n",
    "print(\">>>Summarize<<<\")\n",
    "print(\"FIrst we have checked for any missing values and removed the missing values.\")\n",
    "print(\"By analyzing the sales trends over time we have come to know about busiest days of week which was in months - November and in Days of the week it was 3 - Wednesday\")"
   ]
  },
  {
   "cell_type": "code",
   "execution_count": null,
   "metadata": {},
   "outputs": [],
   "source": []
  }
 ],
 "metadata": {
  "kernelspec": {
   "display_name": "Python 3 (ipykernel)",
   "language": "python",
   "name": "python3"
  },
  "language_info": {
   "codemirror_mode": {
    "name": "ipython",
    "version": 3
   },
   "file_extension": ".py",
   "mimetype": "text/x-python",
   "name": "python",
   "nbconvert_exporter": "python",
   "pygments_lexer": "ipython3",
   "version": "3.9.12"
  }
 },
 "nbformat": 4,
 "nbformat_minor": 4
}
